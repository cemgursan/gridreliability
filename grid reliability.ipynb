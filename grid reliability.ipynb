{
 "cells": [
  {
   "cell_type": "code",
   "execution_count": 14,
   "id": "9e853a7c-377c-4e1a-bfcc-a66426601aee",
   "metadata": {},
   "outputs": [],
   "source": [
    "import numpy as np\n",
    "import pandas as pd\n",
    "import pulp\n",
    "import matplotlib.pyplot as plt\n",
    "from scipy.stats import norm\n",
    "from deap import base, creator, tools, algorithms\n",
    "import random\n",
    "\n"
   ]
  },
  {
   "cell_type": "markdown",
   "id": "abe49640-11a2-42b9-bad4-a50020636f7f",
   "metadata": {},
   "source": [
    "### Step 1: Define Energy Sources\n"
   ]
  },
  {
   "cell_type": "code",
   "execution_count": 16,
   "id": "4b36d3ef-b611-4bc6-a79c-bc83af4bcaec",
   "metadata": {},
   "outputs": [],
   "source": [
    "\n",
    "sources = ['Solar', 'Wind', 'Gas', 'Hydro', 'Coal', 'Nuclear']\n",
    "costs = {'Solar': 40, 'Wind': 35, 'Gas': 70, 'Hydro': 50, 'Coal': 60, 'Nuclear': 80}  # $/MWh\n",
    "capacity = {'Solar': 100, 'Wind': 120, 'Gas': 150, 'Hydro': 80, 'Coal': 130, 'Nuclear': 90}  # Max MW\n",
    "\n",
    "demand = 300  # Total required demand (MW)\n"
   ]
  },
  {
   "cell_type": "markdown",
   "id": "39485450-2abd-4c55-90be-60916ae4aa3c",
   "metadata": {},
   "source": [
    "### Step 2: Monte Carlo Simulation for Grid Reliability\n"
   ]
  },
  {
   "cell_type": "code",
   "execution_count": 19,
   "id": "5a2e8493-2acd-4cf1-ae09-39c5c2f1026b",
   "metadata": {},
   "outputs": [
    {
     "name": "stdout",
     "output_type": "stream",
     "text": [
      "Grid Reliability: 1.0000\n"
     ]
    }
   ],
   "source": [
    "\n",
    "def monte_carlo_reliability(trials=10000):\n",
    "    failures = 0\n",
    "    for _ in range(trials):\n",
    "        available_capacity = sum(np.random.normal(capacity[src], 10) for src in sources)\n",
    "        if available_capacity < demand:\n",
    "            failures += 1\n",
    "    return 1 - (failures / trials)\n",
    "\n",
    "grid_reliability = monte_carlo_reliability()\n",
    "print(f\"Grid Reliability: {grid_reliability:.4f}\")\n"
   ]
  },
  {
   "cell_type": "markdown",
   "id": "c5f7ca8c-560d-43b3-ae38-5a38f3fb0135",
   "metadata": {},
   "source": [
    "### Step 3: Optimization Model (Linear Programming)\n"
   ]
  },
  {
   "cell_type": "code",
   "execution_count": 22,
   "id": "e36b832f-167d-434e-8823-13c1f4669ad4",
   "metadata": {},
   "outputs": [
    {
     "name": "stdout",
     "output_type": "stream",
     "text": [
      "\n",
      "Optimal Energy Mix:\n",
      "Solar: 100.00 MW\n",
      "Wind: 120.00 MW\n",
      "Gas: 0.00 MW\n",
      "Hydro: 80.00 MW\n",
      "Coal: 0.00 MW\n",
      "Nuclear: 0.00 MW\n"
     ]
    }
   ],
   "source": [
    "\n",
    "prob = pulp.LpProblem(\"Energy_Optimization\", pulp.LpMinimize)\n",
    "allocation = {src: pulp.LpVariable(src, 0, capacity[src]) for src in sources}\n",
    "\n",
    "# Objective: Minimize cost\n",
    "prob += pulp.lpSum(allocation[src] * costs[src] for src in sources)\n",
    "\n",
    "# Constraint: Meet demand\n",
    "prob += pulp.lpSum(allocation[src] for src in sources) >= demand\n",
    "\n",
    "# Solve\n",
    "prob.solve()\n",
    "\n",
    "print(\"\\nOptimal Energy Mix:\")\n",
    "for src in sources:\n",
    "    print(f\"{src}: {allocation[src].varValue:.2f} MW\")\n"
   ]
  },
  {
   "cell_type": "markdown",
   "id": "3d8c1bd3-756d-46dd-bd91-39f89d7bba39",
   "metadata": {},
   "source": [
    "### Step 4: Genetic Algorithm for Alternative Optimization\n"
   ]
  },
  {
   "cell_type": "code",
   "execution_count": 25,
   "id": "f2bc05dc-2cbc-4fbe-b7ab-c46e4b71d315",
   "metadata": {},
   "outputs": [
    {
     "name": "stdout",
     "output_type": "stream",
     "text": [
      "\n",
      "Optimized Energy Mix (Genetic Algorithm):\n",
      "Solar: 66.27 MW\n",
      "Wind: 175.53 MW\n",
      "Gas: 6.96 MW\n",
      "Hydro: 63.78 MW\n",
      "Coal: 22.07 MW\n",
      "Nuclear: -32.44 MW\n"
     ]
    }
   ],
   "source": [
    "\n",
    "creator.create(\"FitnessMin\", base.Fitness, weights=(-1.0,))\n",
    "creator.create(\"Individual\", list, fitness=creator.FitnessMin)\n",
    "toolbox = base.Toolbox()\n",
    "toolbox.register(\"attr_float\", random.uniform, 0, max(capacity.values()))\n",
    "toolbox.register(\"individual\", tools.initRepeat, creator.Individual, toolbox.attr_float, n=len(sources))\n",
    "toolbox.register(\"population\", tools.initRepeat, list, toolbox.individual)\n",
    "\n",
    "def eval_energy_mix(individual):\n",
    "    cost = sum(individual[i] * costs[src] for i, src in enumerate(sources))\n",
    "    penalty = max(0, demand - sum(individual)) * 1000\n",
    "    return cost + penalty,\n",
    "\n",
    "toolbox.register(\"mate\", tools.cxBlend, alpha=0.5)\n",
    "toolbox.register(\"mutate\", tools.mutGaussian, mu=0, sigma=10, indpb=0.2)\n",
    "toolbox.register(\"select\", tools.selTournament, tournsize=3)\n",
    "toolbox.register(\"evaluate\", eval_energy_mix)\n",
    "\n",
    "pop = toolbox.population(n=50)\n",
    "hof = tools.HallOfFame(1)\n",
    "algorithms.eaSimple(pop, toolbox, cxpb=0.5, mutpb=0.2, ngen=40, stats=None, halloffame=hof, verbose=False)\n",
    "\n",
    "print(\"\\nOptimized Energy Mix (Genetic Algorithm):\")\n",
    "for i, src in enumerate(sources):\n",
    "    print(f\"{src}: {hof[0][i]:.2f} MW\")"
   ]
  },
  {
   "cell_type": "code",
   "execution_count": null,
   "id": "1926daa0-2047-4243-a251-4983f7e615d1",
   "metadata": {},
   "outputs": [],
   "source": []
  }
 ],
 "metadata": {
  "kernelspec": {
   "display_name": "Python 3 (ipykernel)",
   "language": "python",
   "name": "python3"
  },
  "language_info": {
   "codemirror_mode": {
    "name": "ipython",
    "version": 3
   },
   "file_extension": ".py",
   "mimetype": "text/x-python",
   "name": "python",
   "nbconvert_exporter": "python",
   "pygments_lexer": "ipython3",
   "version": "3.12.7"
  }
 },
 "nbformat": 4,
 "nbformat_minor": 5
}
